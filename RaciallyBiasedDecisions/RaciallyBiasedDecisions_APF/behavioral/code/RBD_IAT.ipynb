{
  "nbformat": 4,
  "nbformat_minor": 0,
  "metadata": {
    "colab": {
      "provenance": [],
      "include_colab_link": true
    },
    "kernelspec": {
      "name": "python3",
      "display_name": "Python 3"
    },
    "language_info": {
      "name": "python"
    }
  },
  "cells": [
    {
      "cell_type": "markdown",
      "metadata": {
        "id": "view-in-github",
        "colab_type": "text"
      },
      "source": [
        "<a href=\"https://colab.research.google.com/github/CoAxLab/ARS/blob/master/RaciallyBiasedDecisions/RaciallyBiasedDecisions_APF/behavioral/code/RBD_IAT.ipynb\" target=\"_parent\"><img src=\"https://colab.research.google.com/assets/colab-badge.svg\" alt=\"Open In Colab\"/></a>"
      ]
    },
    {
      "cell_type": "code",
      "execution_count": 26,
      "metadata": {
        "id": "bfrwIu2GvzIP"
      },
      "outputs": [],
      "source": [
        "#@title Import libraries\n",
        "import pandas as pd #for dealing with csv import\n",
        "import os # for joining paths and filenames sensibly\n",
        "import numpy as np #for the population std\n",
        "import glob # for finding csv data files\n",
        "import platform # paths use different dividers on linux vs windows, so we need to test for this\n",
        "import string\n",
        "import matplotlib.pyplot as plt"
      ]
    },
    {
      "cell_type": "code",
      "source": [
        "#@title Define Utility functions\n",
        "#Compute adjusted mean\n",
        "def adjustedmean(RTs,corrs,penalty):\n",
        "    n=len(corrs) #trials\n",
        "    n_errors=int(n-sum(corrs)) #errors\n",
        "    # print(\"Number of correctness: \", int(sum(corrs)))\n",
        "    # print(\"Number of errors: \", n_errors)\n",
        "    cor_RTs=np.array(corrs)*RTs #sum of correct RTs\n",
        "    cor_mean=sum(cor_RTs)/sum(corrs)\n",
        "\n",
        "    #mean with errors replaced with penalty value\n",
        "    return cor_mean+(n_errors*penalty)/n\n",
        "\n",
        "\n",
        "#Remove timed out trials\n",
        "def exclude_slows(RTs,corrs,slowRT_limit):\n",
        "    new_rt=[] #holding variables\n",
        "    new_cr=[]\n",
        "    for i in range(len(RTs)): #iterate over every item\n",
        "        if RTs[i] < slowRT_limit: #if it isn't too fast, include RT and corr values\n",
        "            new_rt.append(RTs[i])\n",
        "            new_cr.append(corrs[i])\n",
        "\n",
        "    return (new_rt, new_cr)\n",
        "\n",
        "#Compute IAT bias rating\n",
        "def iat_analyze(congr_rts_raw, congr_corr_raw, incon_rts_raw, incon_corr_raw, df_name):\n",
        "    #1 discard subject if too many fast responses\n",
        "    if sum(np.array(np.concatenate((np.array(congr_rts_raw), np.array(incon_rts_raw))))<fastRT_limit)>len(np.concatenate((np.array(congr_rts_raw), np.array(incon_rts_raw))))*fast_prop_limit:\n",
        "        print (\"excluding subject for BM STR because too many fast responses\")\n",
        "    else:\n",
        "        #2 Eliminate scores over 10,000 ms\n",
        "\n",
        "        congr_rts,congr_corr=exclude_slows(congr_rts_raw,congr_corr_raw,slowRT_limit)\n",
        "        incon_rts,incon_corr=exclude_slows(incon_rts_raw,incon_corr_raw,slowRT_limit)\n",
        "\n",
        "        #3 Calculate pooled std\n",
        "        #pooled_std=pooled.std(0) #n-1 std sample std\n",
        "        #(Use N not N-1 because this is the whole sample).\n",
        "        #numpy.std is population std\n",
        "        pooled=congr_rts + incon_rts #all RTs from both blocks, correct and incorrect\n",
        "        pooled_std=np.std(pooled)\n",
        "\n",
        "        #4 Calculated adjusted means, including the penalty\n",
        "        congr_adjmean=adjustedmean(congr_rts,congr_corr,penalty)\n",
        "        incon_adjmean=adjustedmean(incon_rts,incon_corr,penalty)\n",
        "\n",
        "        #5 Calculate the IAT, so that pro-stereotype RTs are a -ve score\n",
        "        IAT=(congr_adjmean-incon_adjmean)/pooled_std\n",
        "\n",
        "        simpleIAT=sum(congr_rts)/len(congr_rts)-sum(incon_rts)/len(incon_rts)\n",
        "\n",
        "        return(IAT)\n",
        "        print(\"IAT for \" + df_name + \" is : {:+.3f}\".format(IAT))\n",
        "        print(\"Mean difference (uncorrected) \" + df_name + \" is {:+.3f}\".format(simpleIAT)+\" seconds\")"
      ],
      "metadata": {
        "id": "E0gHEfHpv8s8",
        "cellView": "form"
      },
      "execution_count": 2,
      "outputs": []
    },
    {
      "cell_type": "code",
      "source": [
        "#@title Load data\n",
        "df_IAT_BM = pd.read_csv ('https://github.com/ExCaLBBR/ExCaLBBR_Projects/raw/main/RaciallyBiasedDecisions/RaciallyBiasedDecisions-Intersectionality_SURG/data/IAT_BM.csv', header=0)\n",
        "df_IAT_WM = pd.read_csv ('https://github.com/ExCaLBBR/ExCaLBBR_Projects/raw/main/RaciallyBiasedDecisions/RaciallyBiasedDecisions-Intersectionality_SURG/data/IAT_WM.csv', header=0)"
      ],
      "metadata": {
        "id": "uoFax7EbwSX0",
        "cellView": "form"
      },
      "execution_count": 3,
      "outputs": []
    },
    {
      "cell_type": "code",
      "source": [
        "#@title Specify thresholds\n",
        "penalty=0.600 #penalty - in seconds - for incorrect responses\n",
        "slowRT_limit=10000 #threshold at which slow RTs are discarded\n",
        "fastRT_limit=300 #threshold which defines responses which are \"too fast\"\n",
        "fast_prop_limit=0.1 # threshold proportion of \"too fast\" responses which defines exclusion of ppt\n"
      ],
      "metadata": {
        "id": "0IFRSKkDwaj7",
        "cellView": "form"
      },
      "execution_count": 4,
      "outputs": []
    },
    {
      "cell_type": "code",
      "source": [
        "#@title Data Extraction\n",
        "df_IAT_BM.rename(columns={\"Spreadsheet: metadata\": \"Congruence\", \"allocator-k3xu\": \"Group Type\"}, inplace = True)\n",
        "df_IAT_BM_2 = df_IAT_BM.drop([\"Spreadsheet: ImageLeft\", \"Spreadsheet: ImageRight\"], axis = 1)\n",
        "df_IAT_WM.rename(columns={\"Spreadsheet: metadata\": \"Congruence\", \"allocator-k3xu\": \"Group Type\"}, inplace = True)\n",
        "df_IAT_WM_2 = df_IAT_WM.drop([\"Spreadsheet: ImageLeft\", \"Spreadsheet: ImageRight\"], axis = 1)\n",
        "\n",
        "#Isolate columns based on stereotype category which are not part of the practice blocks\n",
        "df_IAT_BM_STR = df_IAT_BM_2[((df_IAT_BM_2[\"Spreadsheet: TextLeft\"] == \"Strong\") | (df_IAT_BM_2[\"Spreadsheet: TextRight\"] == \"Strong\")) & (~df_IAT_BM_2[\"Congruence\"].str.startswith(\"practice\"))]\n",
        "df_IAT_BM_INT = df_IAT_BM_2[((df_IAT_BM_2[\"Spreadsheet: TextLeft\"] == \"Intelligence\") | (df_IAT_BM_2[\"Spreadsheet: TextRight\"] == \"Intelligence\")) & (~df_IAT_BM_2[\"Congruence\"].str.startswith(\"practice\"))]\n",
        "df_IAT_WM_STR = df_IAT_WM_2[((df_IAT_WM_2[\"Spreadsheet: TextLeft\"] == \"Strong\") | (df_IAT_WM_2[\"Spreadsheet: TextRight\"] == \"Strong\")) & (~df_IAT_WM_2[\"Congruence\"].str.startswith(\"practice\"))]\n",
        "df_IAT_WM_INT = df_IAT_WM_2[((df_IAT_WM_2[\"Spreadsheet: TextLeft\"] == \"Intelligence\") | (df_IAT_WM_2[\"Spreadsheet: TextRight\"] == \"Intelligence\")) & (~df_IAT_WM_2[\"Congruence\"].str.startswith(\"practice\"))]\n",
        "\n",
        "# BM STR lists RV: polarity of the condition was mislabed in the original data and is corrected here\n",
        "congr_BM_STR_ID = df_IAT_BM_STR[df_IAT_BM_STR[\"Congruence\"] == \"incongruent\"][\"Participant Private ID\"].dropna().tolist()\n",
        "congr_corr_BM_STR = df_IAT_BM_STR[df_IAT_BM_STR[\"Congruence\"] == \"incongruent\"][\"Correct\"].dropna().tolist()\n",
        "congr_rts_BM_STR = df_IAT_BM_STR[df_IAT_BM_STR[\"Congruence\"] == \"incongruent\"][\"Absolute Reaction Time\"].dropna().tolist()\n",
        "incon_BM_STR_ID = df_IAT_BM_STR[df_IAT_BM_STR[\"Congruence\"] == \"congruent\"][\"Participant Private ID\"].dropna().tolist()\n",
        "incon_corr_BM_STR = df_IAT_BM_STR[df_IAT_BM_STR[\"Congruence\"] == \"congruent\"][\"Correct\"].dropna().tolist()\n",
        "incon_rts_BM_STR = df_IAT_BM_STR[df_IAT_BM_STR[\"Congruence\"] == \"congruent\"][\"Absolute Reaction Time\"].dropna().tolist()\n",
        "# BM INT lists\n",
        "congr_BM_INT_ID = df_IAT_BM_INT[df_IAT_BM_INT[\"Congruence\"] == \"congruent\"][\"Participant Private ID\"].dropna().tolist()\n",
        "congr_corr_BM_INT = df_IAT_BM_INT[df_IAT_BM_INT[\"Congruence\"] == \"congruent\"][\"Correct\"].dropna().tolist()\n",
        "congr_rts_BM_INT = df_IAT_BM_INT[df_IAT_BM_INT[\"Congruence\"] == \"congruent\"][\"Absolute Reaction Time\"].dropna().tolist()\n",
        "incon_BM_INT_ID = df_IAT_BM_INT[df_IAT_BM_INT[\"Congruence\"] == \"incongruent\"][\"Participant Private ID\"].dropna().tolist()\n",
        "incon_corr_BM_INT = df_IAT_BM_INT[df_IAT_BM_INT[\"Congruence\"] == \"incongruent\"][\"Correct\"].dropna().tolist()\n",
        "incon_rts_BM_INT = df_IAT_BM_INT[df_IAT_BM_INT[\"Congruence\"] == \"incongruent\"][\"Absolute Reaction Time\"].dropna().tolist()\n",
        "# WM STR lists RV: polarity of the condition was mislabed in the original data and is corrected here\n",
        "congr_WM_STR_ID = df_IAT_WM_STR[df_IAT_WM_STR[\"Congruence\"] == \"incongruent\"][\"Participant Private ID\"].dropna().tolist()\n",
        "congr_corr_WM_STR = df_IAT_WM_STR[df_IAT_WM_STR[\"Congruence\"] == \"incongruent\"][\"Correct\"].dropna().tolist()\n",
        "congr_rts_WM_STR = df_IAT_WM_STR[df_IAT_WM_STR[\"Congruence\"] == \"incongruent\"][\"Absolute Reaction Time\"].dropna().tolist()\n",
        "incon_WM_STR_ID = df_IAT_WM_STR[df_IAT_WM_STR[\"Congruence\"] == \"congruent\"][\"Participant Private ID\"].dropna().tolist()\n",
        "incon_corr_WM_STR = df_IAT_WM_STR[df_IAT_WM_STR[\"Congruence\"] == \"congruent\"][\"Correct\"].dropna().tolist()\n",
        "incon_rts_WM_STR = df_IAT_WM_STR[df_IAT_WM_STR[\"Congruence\"] == \"congruent\"][\"Absolute Reaction Time\"].dropna().tolist()\n",
        "# WM INT lists\n",
        "congr_WM_INT_ID = df_IAT_WM_INT[df_IAT_WM_INT[\"Congruence\"] == \"congruent\"][\"Participant Private ID\"].dropna().tolist()\n",
        "congr_corr_WM_INT = df_IAT_WM_INT[df_IAT_WM_INT[\"Congruence\"] == \"congruent\"][\"Correct\"].dropna().tolist()\n",
        "congr_rts_WM_INT = df_IAT_WM_INT[df_IAT_WM_INT[\"Congruence\"] == \"congruent\"][\"Absolute Reaction Time\"].dropna().tolist()\n",
        "incon_WM_INT_ID = df_IAT_WM_INT[df_IAT_WM_INT[\"Congruence\"] == \"incongruent\"][\"Participant Private ID\"].dropna().tolist()\n",
        "incon_corr_WM_INT = df_IAT_WM_INT[df_IAT_WM_INT[\"Congruence\"] == \"incongruent\"][\"Correct\"].dropna().tolist()\n",
        "incon_rts_WM_INT = df_IAT_WM_INT[df_IAT_WM_INT[\"Congruence\"] == \"incongruent\"][\"Absolute Reaction Time\"].dropna().tolist()\n",
        "# check correctness list has the same length as the rt list\n",
        "# print(len(congr_corr_BM_STR))\n",
        "# print(len(congr_rts_BM_STR))\n"
      ],
      "metadata": {
        "id": "HLJdf6IoSQcT",
        "cellView": "form"
      },
      "execution_count": 5,
      "outputs": []
    },
    {
      "cell_type": "code",
      "source": [
        "#@title Filter participants who are too fast\n",
        "#Find and remove participants who are too fast\n",
        "BM_ID = np.unique(congr_BM_STR_ID)\n",
        "remIndx = []\n",
        "for p in range(len(BM_ID)):\n",
        "    indx_cong = np.where(np.array(congr_BM_STR_ID) == BM_ID[p])\n",
        "    indx_incon = np.where(np.array(incon_BM_STR_ID) == BM_ID[p])\n",
        "    if sum(np.array(np.concatenate((np.array(congr_rts_BM_STR)[indx_cong], np.array(incon_rts_BM_STR)[indx_incon])))<fastRT_limit)>len(np.concatenate((np.array(congr_rts_BM_STR)[indx_cong], np.array(incon_rts_BM_STR)[indx_incon])))*fast_prop_limit:\n",
        "      print (\"Excluding subject\", BM_ID[p], \"for BM STR because too many fast responses\")\n",
        "      remIndx.append(p)\n",
        "BM_ID_filt = np.delete(BM_ID, remIndx)\n",
        "# BM Intelligence\n",
        "remIndx = []\n",
        "for p in range(len(BM_ID_filt)):\n",
        "    indx_cong = np.where(np.array(congr_BM_INT_ID) == BM_ID_filt[p])\n",
        "    indx_incon = np.where(np.array(incon_BM_INT_ID) == BM_ID_filt[p])\n",
        "    if sum(np.array(np.concatenate((np.array(congr_rts_BM_INT)[indx_cong], np.array(incon_rts_BM_INT)[indx_incon])))<fastRT_limit)>len(np.concatenate((np.array(congr_rts_BM_INT)[indx_cong], np.array(incon_rts_BM_INT)[indx_incon])))*fast_prop_limit:\n",
        "      print (\"Excluding subject\", BM_ID_filt[p], \"for BM INT because too many fast responses\")\n",
        "      remIndx.append(p)\n",
        "BM_ID_filt = np.delete(BM_ID_filt, remIndx)\n",
        "\n",
        "# White Male Strength\n",
        "WM_ID = np.unique(congr_WM_STR_ID)\n",
        "remIndx = []\n",
        "for p in range(len(WM_ID)):\n",
        "    indx_cong = np.where(np.array(congr_WM_STR_ID) == WM_ID[p])\n",
        "    indx_incon = np.where(np.array(incon_WM_STR_ID) == WM_ID[p])\n",
        "    if sum(np.array(np.concatenate((np.array(congr_rts_WM_STR)[indx_cong], np.array(incon_rts_WM_STR)[indx_incon])))<fastRT_limit)>len(np.concatenate((np.array(congr_rts_WM_STR)[indx_cong], np.array(incon_rts_WM_STR)[indx_incon])))*fast_prop_limit:\n",
        "      print (\"Excluding subject\", WM_ID[p], \"for WM STR because too many fast responses\")\n",
        "      remIndx.append(p)\n",
        "WM_ID_filt = np.delete(WM_ID, remIndx)\n",
        "# White Male Intel\n",
        "remIndx = []\n",
        "for p in range(len(WM_ID_filt)):\n",
        "    indx_cong = np.where(np.array(congr_WM_INT_ID) == WM_ID_filt[p])\n",
        "    indx_incon = np.where(np.array(incon_WM_INT_ID) == WM_ID_filt[p])\n",
        "    if sum(np.array(np.concatenate((np.array(congr_rts_WM_INT)[indx_cong], np.array(incon_rts_WM_INT)[indx_incon])))<fastRT_limit)>len(np.concatenate((np.array(congr_rts_WM_INT)[indx_cong], np.array(incon_rts_WM_INT)[indx_incon])))*fast_prop_limit:\n",
        "      print (\"Excluding subject\", WM_ID_filt[p], \"for WM INT because too many fast responses\")\n",
        "      remIndx.append(p)\n",
        "WM_ID_filt = np.delete(WM_ID_filt, remIndx)\n"
      ],
      "metadata": {
        "id": "E1c0ZiTO0joj",
        "cellView": "form",
        "outputId": "21a8ca14-fb15-47b2-ec41-a2ea1b83c634",
        "colab": {
          "base_uri": "https://localhost:8080/"
        }
      },
      "execution_count": 7,
      "outputs": [
        {
          "output_type": "stream",
          "name": "stdout",
          "text": [
            "Excluding subject 8657542.0 for BM STR because too many fast responses\n",
            "Excluding subject 8657619.0 for BM STR because too many fast responses\n",
            "Excluding subject 8657695.0 for BM STR because too many fast responses\n",
            "Excluding subject 8657698.0 for BM STR because too many fast responses\n",
            "Excluding subject 8660226.0 for BM STR because too many fast responses\n",
            "Excluding subject 8663169.0 for BM STR because too many fast responses\n",
            "Excluding subject 8657248.0 for BM INT because too many fast responses\n",
            "Excluding subject 8657280.0 for WM STR because too many fast responses\n",
            "Excluding subject 8657313.0 for WM STR because too many fast responses\n",
            "Excluding subject 8657329.0 for WM STR because too many fast responses\n",
            "Excluding subject 8657334.0 for WM STR because too many fast responses\n",
            "Excluding subject 8657343.0 for WM STR because too many fast responses\n",
            "Excluding subject 8657323.0 for WM INT because too many fast responses\n"
          ]
        }
      ]
    },
    {
      "cell_type": "code",
      "source": [
        "#@title Compute IAT bias\n",
        "# Black Male Strength\n",
        "BM_IAT_STR = []\n",
        "for p in range(len(BM_ID_filt)):\n",
        "  indx_cong = np.where(np.array(congr_BM_STR_ID) == BM_ID_filt[p])[0]\n",
        "  cong_corr_BM_STR_pi = np.array(congr_corr_BM_STR)[indx_cong]\n",
        "  cong_rts_BM_STR_pi = np.array(congr_rts_BM_STR)[indx_cong]\n",
        "  indx_incon = np.where(np.array(incon_BM_STR_ID) == BM_ID_filt[p])[0]\n",
        "  incon_corr_BM_STR_pi = np.array(incon_corr_BM_STR)[indx_incon]\n",
        "  incon_rts_BM_STR_pi = np.array(incon_rts_BM_STR)[indx_incon]\n",
        "  #print(BM_ID_filt[p])\n",
        "  iatBias = iat_analyze(cong_rts_BM_STR_pi, cong_corr_BM_STR_pi, incon_rts_BM_STR_pi, incon_corr_BM_STR_pi, \"BM STR\")\n",
        "  BM_IAT_STR.append(iatBias)\n",
        "\n",
        "# Black Male Intel\n",
        "BM_IAT_INT = []\n",
        "for p in range(len(BM_ID_filt)):\n",
        "  indx_cong = np.where(np.array(congr_BM_INT_ID) == BM_ID_filt[p])[0]\n",
        "  cong_corr_BM_INT_pi = np.array(congr_corr_BM_INT)[indx_cong]\n",
        "  cong_rts_BM_INT_pi = np.array(congr_rts_BM_INT)[indx_cong]\n",
        "  indx_incon = np.where(np.array(incon_BM_INT_ID) == BM_ID_filt[p])[0]\n",
        "  incon_corr_BM_INT_pi = np.array(incon_corr_BM_INT)[indx_incon]\n",
        "  incon_rts_BM_INT_pi = np.array(incon_rts_BM_INT)[indx_incon]\n",
        "  #print(BM_ID_filt[p])\n",
        "  iatBias = iat_analyze(cong_rts_BM_INT_pi, cong_corr_BM_INT_pi, incon_rts_BM_INT_pi, incon_corr_BM_INT_pi, \"BM INT\")\n",
        "  BM_IAT_INT.append(iatBias)\n",
        "\n",
        "# White Male Strength\n",
        "WM_IAT_STR = []\n",
        "for p in range(len(WM_ID_filt)):\n",
        "  indx_cong = np.where(np.array(congr_WM_STR_ID) == WM_ID_filt[p])[0]\n",
        "  cong_corr_WM_STR_pi = np.array(congr_corr_WM_STR)[indx_cong]\n",
        "  cong_rts_WM_STR_pi = np.array(congr_rts_WM_STR)[indx_cong]\n",
        "  indx_incon = np.where(np.array(incon_WM_STR_ID) == WM_ID_filt[p])[0]\n",
        "  incon_corr_WM_STR_pi = np.array(incon_corr_WM_STR)[indx_incon]\n",
        "  incon_rts_WM_STR_pi = np.array(incon_rts_WM_STR)[indx_incon]\n",
        "  #print(WM_ID_filt[p])\n",
        "  iatBias = iat_analyze(cong_rts_WM_STR_pi, cong_corr_WM_STR_pi, incon_rts_WM_STR_pi, incon_corr_WM_STR_pi, \"WM STR\")\n",
        "  WM_IAT_STR.append(iatBias)\n",
        "\n",
        "# White Male Intel\n",
        "WM_IAT_INT = []\n",
        "for p in range(len(WM_ID_filt)):\n",
        "  indx_cong = np.where(np.array(congr_WM_INT_ID) == WM_ID_filt[p])[0]\n",
        "  cong_corr_WM_INT_pi = np.array(congr_corr_WM_INT)[indx_cong]\n",
        "  cong_rts_WM_INT_pi = np.array(congr_rts_WM_INT)[indx_cong]\n",
        "  indx_incon = np.where(np.array(incon_WM_INT_ID) == WM_ID_filt[p])[0]\n",
        "  incon_corr_WM_INT_pi = np.array(incon_corr_WM_INT)[indx_incon]\n",
        "  incon_rts_WM_INT_pi = np.array(incon_rts_WM_INT)[indx_incon]\n",
        "  #print(WM_ID_filt[p])\n",
        "  iatBias = iat_analyze(cong_rts_WM_INT_pi, cong_corr_WM_INT_pi, incon_rts_WM_INT_pi, incon_corr_WM_INT_pi, \"WM INT\")\n",
        "  WM_IAT_INT.append(iatBias)"
      ],
      "metadata": {
        "id": "cf_OQd7CUtm9"
      },
      "execution_count": 16,
      "outputs": []
    },
    {
      "cell_type": "code",
      "source": [
        "Combined_IAT = [BM_IAT_STR, BM_IAT_INT, WM_IAT_STR, WM_IAT_INT]\n",
        "Combined_IAT_bp = plt.boxplot(Combined_IAT)\n",
        "bp_labels = ['BM_IAT_STR', 'BM_IAT_INT','WM_IAT_STR', 'WM_IAT_INT']\n",
        "plt.gca(Combined_IAT_bp).set_xticklabels(bp_labels)"
      ],
      "metadata": {
        "id": "S1cWqa7jc3S3",
        "outputId": "ee3f6493-a2e3-46a1-cc9c-814f0ff4a940",
        "colab": {
          "base_uri": "https://localhost:8080/",
          "height": 619
        }
      },
      "execution_count": 37,
      "outputs": [
        {
          "output_type": "error",
          "ename": "TypeError",
          "evalue": "ignored",
          "traceback": [
            "\u001b[0;31m---------------------------------------------------------------------------\u001b[0m",
            "\u001b[0;31mTypeError\u001b[0m                                 Traceback (most recent call last)",
            "\u001b[0;32m<ipython-input-37-3c40276fcd88>\u001b[0m in \u001b[0;36m<cell line: 4>\u001b[0;34m()\u001b[0m\n\u001b[1;32m      2\u001b[0m \u001b[0mCombined_IAT_bp\u001b[0m \u001b[0;34m=\u001b[0m \u001b[0mplt\u001b[0m\u001b[0;34m.\u001b[0m\u001b[0mboxplot\u001b[0m\u001b[0;34m(\u001b[0m\u001b[0mCombined_IAT\u001b[0m\u001b[0;34m)\u001b[0m\u001b[0;34m\u001b[0m\u001b[0;34m\u001b[0m\u001b[0m\n\u001b[1;32m      3\u001b[0m \u001b[0mbp_labels\u001b[0m \u001b[0;34m=\u001b[0m \u001b[0;34m[\u001b[0m\u001b[0;34m'BM_IAT_STR'\u001b[0m\u001b[0;34m,\u001b[0m \u001b[0;34m'BM_IAT_INT'\u001b[0m\u001b[0;34m,\u001b[0m\u001b[0;34m'WM_IAT_STR'\u001b[0m\u001b[0;34m,\u001b[0m \u001b[0;34m'WM_IAT_INT'\u001b[0m\u001b[0;34m]\u001b[0m\u001b[0;34m\u001b[0m\u001b[0;34m\u001b[0m\u001b[0m\n\u001b[0;32m----> 4\u001b[0;31m \u001b[0mplt\u001b[0m\u001b[0;34m.\u001b[0m\u001b[0mgca\u001b[0m\u001b[0;34m(\u001b[0m\u001b[0mCombined_IAT_bp\u001b[0m\u001b[0;34m)\u001b[0m\u001b[0;34m.\u001b[0m\u001b[0mset_xticklabels\u001b[0m\u001b[0;34m(\u001b[0m\u001b[0mbp_labels\u001b[0m\u001b[0;34m)\u001b[0m\u001b[0;34m\u001b[0m\u001b[0;34m\u001b[0m\u001b[0m\n\u001b[0m",
            "\u001b[0;31mTypeError\u001b[0m: gca() takes 0 positional arguments but 1 was given"
          ]
        },
        {
          "output_type": "display_data",
          "data": {
            "text/plain": [
              "<Figure size 640x480 with 1 Axes>"
            ],
            "image/png": "[encoded data removed]"
          },
          "metadata": {}
        }
      ]
    },
    {
      "cell_type": "code",
      "source": [
        "#@title Participant-wise analysis of IAT bias by Stereotype category\n",
        "\n",
        "#Group by stereotype means\n",
        "BM_IAT_STR_Avg = np.mean(BM_IAT_STR)*-1\n",
        "BM_IAT_INT_Avg = np.mean(BM_IAT_INT)*-1\n",
        "WM_IAT_STR_Avg = np.mean(WM_IAT_STR)*-1\n",
        "WM_IAT_INT_Avg = np.mean(WM_IAT_INT)*-1\n",
        "\n",
        "#Group by stereotype standard deviation\n",
        "BM_IAT_STR_SD = np.std(BM_IAT_STR)\n",
        "BM_IAT_INT_SD = np.std(BM_IAT_INT)\n",
        "WM_IAT_STR_SD = np.std(WM_IAT_STR)\n",
        "WM_IAT_INT_SD = np.std(WM_IAT_INT)\n",
        "\n",
        "\n",
        "#Print output\n",
        "print(\"Black Male Strength Stereotype IAT bias =\", BM_IAT_STR_Avg, \"(SD = \", BM_IAT_STR_SD, \")\")\n",
        "print(\"Black Male Intelligence Stereotype IAT bias =\", BM_IAT_INT_Avg, \"(SD = \", BM_IAT_INT_SD, \")\")\n",
        "print(\"White Male Strength Stereotype IAT bias =\", WM_IAT_STR_Avg, \"(SD = \", WM_IAT_STR_SD, \")\")\n",
        "print(\"White Male Intelligence Stereotype IAT bias =\", WM_IAT_INT_Avg, \"(SD = \", WM_IAT_INT_SD, \")\")"
      ],
      "metadata": {
        "id": "arL82KzF0I8M",
        "outputId": "2d6b2620-3123-4c86-9305-9184ce5cb3b4",
        "colab": {
          "base_uri": "https://localhost:8080/"
        }
      },
      "execution_count": 9,
      "outputs": [
        {
          "output_type": "stream",
          "name": "stdout",
          "text": [
            "Black Male Strength Stereotype IAT bias = 0.13536111271726628 (SD =  0.4674800833135985 )\n",
            "Black Male Intelligence Stereotype IAT bias = 0.02154126859389521 (SD =  0.47415817247147524 )\n",
            "White Male Strength Stereotype IAT bias = 0.09968998227057914 (SD =  0.3944171588604764 )\n",
            "White Male Intelligence Stereotype IAT bias = 0.19912697388866202 (SD =  0.4743921521324688 )\n"
          ]
        }
      ]
    },
    {
      "cell_type": "code",
      "source": [
        "#Groupwise Analysis\n",
        "# iat_analyze(congr_rts_BM_STR, congr_corr_BM_STR, incon_rts_BM_STR, incon_corr_BM_STR, \"BM STR\")\n",
        "# iat_analyze(congr_rts_BM_INT, congr_corr_BM_INT, incon_rts_BM_INT, incon_corr_BM_INT, \"BM INT\")\n",
        "# iat_analyze(congr_rts_WM_STR, congr_corr_WM_STR, incon_rts_WM_STR, incon_corr_WM_STR, \"WM STR\")\n",
        "# iat_analyze(congr_rts_WM_INT, congr_corr_WM_INT, incon_rts_WM_INT, incon_corr_WM_INT, \"WM INT\")"
      ],
      "metadata": {
        "id": "iAxbLnaciRlv"
      },
      "execution_count": 10,
      "outputs": []
    },
    {
      "cell_type": "markdown",
      "source": [
        "## Reference:\n",
        "IAT data analysis script adapted from https://github.com/tomstafford/IAT\n",
        "\n",
        "Calculate IAT score from data generated by Robin's PsychoPy script [TQS Feb 2014]\n",
        "\n",
        "*Greenwald, A. G., Nosek, B. A., & Banaji, M. R. (2003). Understanding and using the implicit association test: I. An improved scoring algorithm. Journal of personality and social psychology, 85(2), 1972-216.*"
      ],
      "metadata": {
        "id": "pE-DC6j9wKGk"
      }
    }
  ]
}